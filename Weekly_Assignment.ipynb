{
  "nbformat": 4,
  "nbformat_minor": 0,
  "metadata": {
    "colab": {
      "provenance": []
    },
    "kernelspec": {
      "name": "python3",
      "display_name": "Python 3"
    },
    "language_info": {
      "name": "python"
    }
  },
  "cells": [
    {
      "cell_type": "markdown",
      "source": [
        "# **Weekly Assignments:**"
      ],
      "metadata": {
        "id": "73v56bROuaRi"
      }
    },
    {
      "cell_type": "markdown",
      "source": [
        "# **Week 2:**"
      ],
      "metadata": {
        "id": "QJtV6R_Zuuoi"
      }
    },
    {
      "cell_type": "markdown",
      "source": [
        "### **Divide and Conquer algorithms:**\n",
        "\n",
        "The first algorithm in this task is an example of count sort.\n",
        "\n",
        "Count sort is an example of a counting algortihm which sorts the elements by counting the number of occurences of each element in an array. Counting sort is also an example of an algorithm that uses a hashing technique.\n",
        "\n",
        "The steps of the count sort are as followed:\n",
        "1. Find the maximum length of the input array\n",
        "2. Initialise the count array in order to keep track of the number of occurances of each element\n",
        "3. Count the occurances of each element that are in the input array (M)\n",
        "4. Calculate the cumlative sun of the count array from previous steps\n",
        "5. Finally place the elements in the correct order\n",
        "\n"
      ],
      "metadata": {
        "id": "Ok6sGHq7m-eQ"
      }
    },
    {
      "cell_type": "code",
      "source": [
        "def algorithm1(arr):\n",
        "\n",
        "    # Step 1:\n",
        "\n",
        "    M = len(arr)\n",
        "    max_element = max(arr)\n",
        "\n",
        "    # Step 2:\n",
        "\n",
        "    count = [0] * (max_element + 1)\n",
        "\n",
        "    # Step 3:\n",
        "\n",
        "    for n in range(M):\n",
        "        count[arr[n]] += 1\n",
        "\n",
        "    # Step 4:\n",
        "\n",
        "    for n in range(1, max_element + 1):\n",
        "        count[n] += count[n - 1]\n",
        "\n",
        "    # Step 5:\n",
        "\n",
        "    output = [0] * M\n",
        "    n = M - 1\n",
        "    while n >= 0:\n",
        "        output[count[arr[n]] - 1] = arr[n]\n",
        "        count[arr[n]] -= 1\n",
        "        n -= 1\n",
        "\n",
        "    # Step 6:\n",
        "\n",
        "    for n in range(M):\n",
        "        arr[n] = output[n]\n",
        "\n",
        "\n",
        "data = [3, 5, 1, 6, 7, 8, 3]\n",
        "\n",
        "algorithm1(data)\n",
        "\n",
        "print(\"Sorted Array:\", data)"
      ],
      "metadata": {
        "colab": {
          "base_uri": "https://localhost:8080/"
        },
        "id": "gTH-soihos9d",
        "outputId": "581d5a5e-8e5e-45fd-f610-296d58a97966"
      },
      "execution_count": null,
      "outputs": [
        {
          "output_type": "stream",
          "name": "stdout",
          "text": [
            "Sorted Array: [1, 3, 3, 5, 6, 7, 8]\n"
          ]
        }
      ]
    },
    {
      "cell_type": "markdown",
      "source": [
        "**Complexity of this algorithm:** The complexity of this algorithm is O(M+N)"
      ],
      "metadata": {
        "id": "-wuPCgMlu4Dx"
      }
    },
    {
      "cell_type": "code",
      "source": [
        "def quicksort(arr):\n",
        "    if len(arr) ==1 or len(arr)==0\n",
        "        return arr\n",
        "\n",
        "    else:\n",
        "        i = len(arr) // 2\n",
        "        pivot = arr[i]\n",
        "\n",
        "        # Partition the array into elements less than or equal to the pivot and elements greater than the pivot\n",
        "        less_than_or_equal_pivot = [x for x in arr[:i] if x <= pivot] + [x for x in arr[i+1:] if x <= pivot]\n",
        "        greater_than_pivot = [x for x in arr[:i] if x > pivot] + [x for x in arr[i+1:] if x > pivot]\n",
        "\n",
        "        # Recursively apply quicksort to the two partitions\n",
        "        first_part = quicksort(less_than_or_equal_pivot)\n",
        "        second_part = quicksort(greater_than_pivot)\n",
        "\n",
        "        # Return the sorted partitions (including the pivot)\n",
        "        return first_part + [pivot] + second_part\n",
        "\n",
        "# Example usage:\n",
        "data = [3, 5, 1, 6, 7, 8, 3]\n",
        "\n",
        "# Applying the quicksort algorithm to the data array\n",
        "sorted_data = quicksort(data)\n",
        "\n",
        "# Displaying the sorted array\n",
        "print(\"Sorted Array:\")\n",
        "print(sorted_data)"
      ],
      "metadata": {
        "id": "ndb89VpAu1pk",
        "colab": {
          "base_uri": "https://localhost:8080/"
        },
        "outputId": "b6f2b1af-1d50-43c2-a20b-9a86b1cd4f92"
      },
      "execution_count": null,
      "outputs": [
        {
          "output_type": "stream",
          "name": "stdout",
          "text": [
            "Sorted Array:\n",
            "[1, 3, 3, 5, 6, 7, 8]\n"
          ]
        }
      ]
    },
    {
      "cell_type": "markdown",
      "source": [
        "# **Week 3:**"
      ],
      "metadata": {
        "id": "mfCoMqOI2LMN"
      }
    },
    {
      "cell_type": "markdown",
      "source": [
        "## **Dijkstra's Algorithm:**\n"
      ],
      "metadata": {
        "id": "fsmY_7DY2Ni3"
      }
    },
    {
      "cell_type": "code",
      "source": [
        "import sys\n",
        "\n",
        "class Graph():\n",
        "    def __init__(self, vertices):\n",
        "        self.V = vertices\n",
        "        self.graph = [[0 for _ in range(vertices)] for _ in range(vertices)]\n",
        "\n",
        "    def printSolution(self, dist):\n",
        "        print(\"Vertex \\tMax Distance from Source\")\n",
        "        for node in range(self.V):\n",
        "            print(node, \"\\t\", dist[node])\n",
        "\n",
        "    def maxDistance(self, dist, sptSet):\n",
        "        max_dist = -sys.maxsize\n",
        "        max_index = -1\n",
        "\n",
        "        for u in range(self.V):\n",
        "            if dist[u] > max_dist and not sptSet[u]:\n",
        "                max_dist = dist[u]\n",
        "                max_index = u\n",
        "\n",
        "        return max_index\n",
        "\n",
        "    def dijkstraMax(self, src):\n",
        "        dist = [-sys.maxsize] * self.V\n",
        "        dist[src] = 0\n",
        "        sptSet = [False] * self.V\n",
        "\n",
        "        for _ in range(self.V):\n",
        "            x = self.maxDistance(dist, sptSet)\n",
        "            sptSet[x] = True\n",
        "\n",
        "            for y in range(self.V):\n",
        "                if (\n",
        "                    self.graph[x][y] > 0\n",
        "                    and not sptSet[y]\n",
        "                    and dist[y] < dist[x] + self.graph[x][y]\n",
        "                ):\n",
        "                    dist[y] = dist[x] + self.graph[x][y]\n",
        "\n",
        "        self.printSolution(dist)\n",
        "\n",
        "\n",
        "# Driver's code\n",
        "if __name__ == \"__main__\":\n",
        "    g = Graph(9)\n",
        "    g.graph = [\n",
        "        [0, 4, 0, 0, 0, 0, 0, 8, 0],\n",
        "        [4, 0, 8, 0, 0, 0, 0, 11, 0],\n",
        "        [0, 8, 0, 7, 0, 4, 0, 0, 2],\n",
        "        [0, 0, 7, 0, 9, 14, 0, 0, 0],\n",
        "        [0, 0, 0, 9, 0, 10, 0, 0, 0],\n",
        "        [0, 0, 4, 14, 10, 0, 2, 0, 0],\n",
        "        [0, 0, 0, 0, 0, 2, 0, 1, 6],\n",
        "        [8, 11, 0, 0, 0, 0, 1, 0, 7],\n",
        "        [0, 0, 2, 0, 0, 0, 6, 7, 0],\n",
        "    ]\n",
        "\n",
        "    g.dijkstraMax(0)\n"
      ],
      "metadata": {
        "id": "ogP1j1jo2U7E",
        "colab": {
          "base_uri": "https://localhost:8080/"
        },
        "outputId": "361fdf38-951f-42c6-e7e8-3ae7986087f4"
      },
      "execution_count": null,
      "outputs": [
        {
          "output_type": "stream",
          "name": "stdout",
          "text": [
            "Vertex \tMax Distance from Source\n",
            "0 \t 0\n",
            "1 \t 19\n",
            "2 \t 27\n",
            "3 \t 34\n",
            "4 \t 58\n",
            "5 \t 48\n",
            "6 \t 50\n",
            "7 \t 8\n",
            "8 \t 56\n"
          ]
        }
      ]
    },
    {
      "cell_type": "markdown",
      "source": [
        "## **Coin Problem:**"
      ],
      "metadata": {
        "id": "AL_TrWUN2fRb"
      }
    },
    {
      "cell_type": "code",
      "source": [
        "def CoinAlgorithm(coins, target_value):\n",
        "\n",
        "# First we can sort the coins in descending value as we want to minimise the number of coins we use so bigger coins are better\n",
        "    coins.sort(reverse=True)\n",
        "\n",
        "# Initialise the vairbales remaing value and coin count\n",
        "    remaining_value = target_value\n",
        "    coin_count = 0\n",
        "\n",
        "# create loop\n",
        "    for coin in coins:\n",
        "\n",
        "        num_coins = remaining_value // coin\n",
        "\n",
        "        remaining_value %= coin\n",
        "\n",
        "        coin_count += num_coins\n",
        "\n",
        "# If there is no remaining value then we can end the loop\n",
        "        if remaining_value == 0:\n",
        "            break\n",
        "\n",
        "    return coin_count\n",
        "\n",
        "coin_set = [20, 10, 5, 2, 1]\n",
        "input_value = 63\n",
        "\n",
        "result = CoinAlgorithm(coin_set, input_value)\n",
        "print(f\"Minimum number of coins for {input_value}p:\", result)"
      ],
      "metadata": {
        "id": "x0gEgvw92lZR",
        "colab": {
          "base_uri": "https://localhost:8080/"
        },
        "outputId": "37dc0176-3e79-4b0a-e6e0-986b0d817edc"
      },
      "execution_count": null,
      "outputs": [
        {
          "output_type": "stream",
          "name": "stdout",
          "text": [
            "Minimum number of coins for 63p: 5\n"
          ]
        }
      ]
    },
    {
      "cell_type": "markdown",
      "source": [
        "# **Week 4:**"
      ],
      "metadata": {
        "id": "grpvbOA41gX1"
      }
    },
    {
      "cell_type": "markdown",
      "source": [
        "## **Kargers min-cut Algorithm:**\n",
        "\n",
        "What is it?\n",
        "\n",
        "Kargers min-cut algorithm is a algortihm that splits a connected graph in to two by cutting the minimum numbers of vertices. It is used in the\n",
        "\n",
        "\n",
        "How does it work?\n",
        "\n",
        "\n",
        "Is this a Monte-Carlo Method?\n",
        "Yes the following alogrithm is an example of the Monte-Carlo method as it uses defined number of iterations to run and approximate the min_cut"
      ],
      "metadata": {
        "id": "B61mNR621lV_"
      }
    },
    {
      "cell_type": "code",
      "source": [
        "# To begin we can import the following packages that we need to run the algortihm, we will need to import the random library as steps in the algortihm require a random process\n",
        "\n",
        "import numpy as np\n",
        "import random\n",
        "\n",
        "# define the value of inf as positve infinity\n",
        "\n",
        "inf = float('inf')\n",
        "\n",
        "# We need to input the number of times we want the random \"find_cut\" to be carried out the more times the problem is carried out the more accurate the results are going to be\n",
        "\n",
        "def find_min_cut(original_graph, num_repeats):\n",
        "    min_cut = inf\n",
        "    for ith_repeat in range(1, num_repeats + 1):\n",
        "        print(ith_repeat, \"th repeat\")\n",
        "        Graph = dict(original_graph)\n",
        "        cut = find_cut(Graph)\n",
        "        if cut < min_cut:\n",
        "            min_cut = cut\n",
        "    return min_cut\n",
        "\n",
        "def find_cut(Graph):\n",
        "    list_vertices = list(Graph.keys())\n",
        "\n",
        "    for num_contraction in range(len(Graph) - 2):\n",
        "        contract_edge(Graph, list_vertices)\n",
        "    return count_cut(Graph)\n",
        "\n",
        "def contract_edge(Graph, list_vertices):\n",
        "    rand_vertex = choice(list_vertices)\n",
        "    edge = [rand_vertex, choose_edge(Graph, rand_vertex, list_vertices)]\n",
        "    unite_edge(Graph, edge, list_vertices)\n",
        "    clean_graph(Graph, edge, list_vertices)\n",
        "    choice = rand.list_vertices\n",
        "\n",
        "def count_cut(Graph):\n",
        "    return len(Graph[list(Graph.keys())[0]])\n",
        "\n",
        "def choose_edge(Graph, vertex, list_vertices):\n",
        "    return choice(Graph[vertex])\n",
        "\n",
        "def unite_edge(Graph, edge, list_vertices):\n",
        "    new_vertex = edge[0]\n",
        "    old_vertex = edge[1]\n",
        "    Graph[new_vertex].extend(Graph[old_vertex])\n",
        "    del Graph[old_vertex]\n",
        "    list_vertices.remove(old_vertex)\n",
        "\n",
        "def clean_graph(Graph, edge, list_vertices):\n",
        "    for vertex in list_vertices:\n",
        "        if edge[1] in Graph[vertex]:\n",
        "            substitute_all_elements(Graph, vertex, edge[1], edge[0])\n",
        "        if vertex == edge[0]:\n",
        "            Graph[vertex] = list(filter(lambda a: a != edge[0], Graph[vertex]))\n",
        "\n",
        "def substitute_all_elements(Graph, vertex, old, new):\n",
        "    Graph[vertex] = [new if x == old else x for x in Graph[vertex]]\n",
        "\n",
        "# Example usage:\n",
        "original_graph = {1: [2, 3], 2: [1, 3], 3: [1, 2]}\n",
        "num_repeats = 5\n",
        "result = find_min_cut(original_graph, num_repeats)\n",
        "print(\"Min Cut:\", result)"
      ],
      "metadata": {
        "id": "UYHSMQZD1km9"
      },
      "execution_count": null,
      "outputs": []
    },
    {
      "cell_type": "markdown",
      "source": [
        "## **First-in-first-out and Least recently used algortihms:**"
      ],
      "metadata": {
        "id": "OjMrlEhe1sqj"
      }
    },
    {
      "cell_type": "markdown",
      "source": [
        "The FIFO (first-in-first-out) algorithm is used to manage input/output operations. The idea behind FIFO is that the first process to enter the queue is the first to be executed whilst all later process wait in a queue.\n",
        "\n",
        "However, FIFO may not be the most efficient algorithm in all cases as it dows not consider process priorites or the time required to execute a process.\n",
        "\n",
        "FIFO is a simple to understand and fair algorithm becasue of this it is also predictable. In some cases FIFO may be more efficient than other algortihms.\n",
        "\n",
        "When is FIFO used?\n",
        "\n",
        "Fifo is used in cases where there is not a lot of step required"
      ],
      "metadata": {
        "id": "v3YwD00j1vDT"
      }
    },
    {
      "cell_type": "code",
      "source": [
        "# Start by istalling the random library\n",
        "\n",
        "import random\n",
        "\n",
        "# We can then generate a list of n random integers to form our queue\n",
        "\n",
        "def generate_random_integers(n):\n",
        "    return [random.randint(1, 100) for _ in range(n)]\n",
        "\n",
        "\n",
        "# Define the queue for our FIFO algorithm from the randomly generated numbers and create code for our cache states\n",
        "\n",
        "def fifo_algorithm(numbers):\n",
        "    queue = []\n",
        "    result = []\n",
        "    cache_states = []\n",
        "\n",
        "    for num in numbers:\n",
        "        # Enqueue the current number\n",
        "        queue.append(num)\n",
        "\n",
        "        # Save the current state of the cache\n",
        "        cache_states.append(list(queue))\n",
        "\n",
        "        # Dequeue the oldest number if the queue size exceeds a certain threshold\n",
        "        if len(queue) > 3:  # Adjust the threshold as needed\n",
        "            result.append(queue.pop(0))\n",
        "\n",
        "    # Process any remaining elements in the queue\n",
        "    result.extend(queue)\n",
        "\n",
        "    # Save the current state of the cache\n",
        "    cache_states.append(list(queue))\n",
        "\n",
        "    return result, cache_states\n",
        "\n",
        "# Example: Generate 10 random integers\n",
        "random_numbers = generate_random_integers(10)\n",
        "print(\"Random Integers:\", random_numbers)\n",
        "\n",
        "# Perform FIFO algorithm on the generated numbers\n",
        "result_fifo, cache_states = fifo_algorithm(random_numbers)\n",
        "print(\"Result after FIFO algorithm:\", result_fifo)\n",
        "\n",
        "# Print the cache states at each step\n",
        "print(\"\\nCache States:\")\n",
        "for i, cache_state in enumerate(cache_states):\n",
        "    print(f\"Step {i + 1}: {cache_state}\")"
      ],
      "metadata": {
        "id": "JIMZC1DJ1zcg",
        "colab": {
          "base_uri": "https://localhost:8080/"
        },
        "outputId": "962dec23-b9b5-4a9f-a11a-4a18475e1ae0"
      },
      "execution_count": null,
      "outputs": [
        {
          "output_type": "stream",
          "name": "stdout",
          "text": [
            "Random Integers: [49, 50, 88, 18, 83, 52, 33, 12, 32, 60]\n",
            "Result after FIFO algorithm: [49, 50, 88, 18, 83, 52, 33, 12, 32, 60]\n",
            "\n",
            "Cache States:\n",
            "Step 1: [49]\n",
            "Step 2: [49, 50]\n",
            "Step 3: [49, 50, 88]\n",
            "Step 4: [49, 50, 88, 18]\n",
            "Step 5: [50, 88, 18, 83]\n",
            "Step 6: [88, 18, 83, 52]\n",
            "Step 7: [18, 83, 52, 33]\n",
            "Step 8: [83, 52, 33, 12]\n",
            "Step 9: [52, 33, 12, 32]\n",
            "Step 10: [33, 12, 32, 60]\n",
            "Step 11: [12, 32, 60]\n"
          ]
        }
      ]
    },
    {
      "cell_type": "markdown",
      "source": [
        "# **Week 5:**"
      ],
      "metadata": {
        "id": "vdXfs1gD2zrt"
      }
    },
    {
      "cell_type": "markdown",
      "source": [
        "## **Genetic Algorithm for travelling salesman problem:**"
      ],
      "metadata": {
        "id": "toEG6vAV22Fh"
      }
    },
    {
      "cell_type": "markdown",
      "source": [
        "One way in which we can solve the travelling salesman problem is by using genetic algortihms.\n",
        "\n",
        "The travelling salesmen problem in this case is that a salesman is given a list of cities and he has to find the shortest optimal route from each city making sure he only visits each city once (like a salesman).\n",
        "\n",
        "To apply this problem to a genetic algorithm each city is seen as like a gene whilst the distance between the cities is seen as the fitness score. Therefore the shorter the path between the cities the fitter the gene is. In genetic algorithms the fitter genes survive and move to the next iteraion.\n",
        "\n",
        "I have applied this in the code below:"
      ],
      "metadata": {
        "id": "3AmDqXf9-iXD"
      }
    },
    {
      "cell_type": "code",
      "source": [
        "import random\n",
        "import numpy as np\n",
        "\n",
        "graph = np.array=([ 5,  2,  7, 10],\n",
        " [ 2,  2,  5,  4],\n",
        " [ 7,  5,  0,  8],\n",
        " [10,  4,  8,  0])\n",
        "\n",
        "num_cities = len(graph)\n",
        "generations = 10\n",
        "population_size = 50\n",
        "\n",
        "# generate a random individual in a city\n",
        "def random_individual():\n",
        "    return random.sample(range(num_cities), num_cities)\n",
        "\n",
        "# calculate the total distance of a tour\n",
        "def tour_distance(tour):\n",
        "    total_distance = 0\n",
        "    for i in range(len(tour) - 1):\n",
        "        total_distance += graph[tour[i]][tour[i + 1]]\n",
        "    total_distance += graph[tour[-1]][tour[0]]\n",
        "    return total_distance\n",
        "\n",
        "# selection using roulette wheel method (similar to genetic algorithms used in class)\n",
        "def roulette_wheel_selection(population):\n",
        "    fitness_values = [1 / tour_distance(individual) for individual in population]\n",
        "    total_fitness = sum(fitness_values)\n",
        "    probabilities = [fit / total_fitness for fit in fitness_values]\n",
        "    selected = random.choices(population, probabilities, k=2)\n",
        "    return selected\n",
        "\n",
        "# perform crossover\n",
        "def crossover(parent1, parent2):\n",
        "    start, end = sorted(random.sample(range(num_cities), 2))\n",
        "    child = [-1] * num_cities\n",
        "\n",
        "    # Copy the segment from parent1 to child\n",
        "    child[start:end] = parent1[start:end]\n",
        "\n",
        "    # Fill the remaining positions with genes from parent2\n",
        "    remaining_indices = [i for i in range(num_cities) if child[i] == -1]\n",
        "    remaining_genes = [gene for gene in parent2 if gene not in child[start:end]]\n",
        "    for i, gene in zip(remaining_indices, remaining_genes):\n",
        "        child[i] = gene\n",
        "\n",
        "    return child\n",
        "\n",
        "# perform mutation\n",
        "def mutate(individual):\n",
        "    mutation_probability = 0.1\n",
        "\n",
        "    if random.random() < mutation_probability:\n",
        "        swap_positions = random.sample(range(num_cities), 2)\n",
        "        individual[swap_positions[0]], individual[swap_positions[1]] = (\n",
        "            individual[swap_positions[1]],\n",
        "            individual[swap_positions[0]],\n",
        "        )\n",
        "\n",
        "# Initialization of population\n",
        "population = [random_individual() for _ in range(population_size)]\n",
        "\n",
        "# Main loop\n",
        "for generation in range(generations):\n",
        "    # roulette wheel selection\n",
        "    parent1, parent2 = roulette_wheel_selection(population)\n",
        "\n",
        "    # Perform crossover\n",
        "    child = crossover(parent1, parent2)\n",
        "\n",
        "    # Perform mutation\n",
        "    mutate(child)\n",
        "\n",
        "    # Replace the least fit individual\n",
        "    population.remove(max(population, key=lambda x: tour_distance(x)))\n",
        "    population.append(child)\n",
        "\n",
        "    # Print the best individual in each generation\n",
        "    best_individual = min(population, key=lambda x: tour_distance(x))\n",
        "    print(f\"Generation {generation + 1}, Best Individual: {best_individual}, Distance: {tour_distance(best_individual)}\")\n",
        "\n",
        "best_individual = min(population, key=lambda x: tour_distance(x))\n",
        "print(f\"Final Best Individual: {best_individual}, Distance: {tour_distance(best_individual)}\")\n",
        "\n"
      ],
      "metadata": {
        "id": "Eoa1vIo-b4SS",
        "colab": {
          "base_uri": "https://localhost:8080/"
        },
        "outputId": "d3690986-a30a-46ad-92a8-b69f7db4be1f"
      },
      "execution_count": null,
      "outputs": [
        {
          "output_type": "stream",
          "name": "stdout",
          "text": [
            "Generation 1, Best Individual: [1, 3, 2, 0], Distance: 21\n",
            "Generation 2, Best Individual: [1, 3, 2, 0], Distance: 21\n",
            "Generation 3, Best Individual: [1, 3, 2, 0], Distance: 21\n",
            "Generation 4, Best Individual: [1, 3, 2, 0], Distance: 21\n",
            "Generation 5, Best Individual: [1, 3, 2, 0], Distance: 21\n",
            "Generation 6, Best Individual: [1, 3, 2, 0], Distance: 21\n",
            "Generation 7, Best Individual: [1, 3, 2, 0], Distance: 21\n",
            "Generation 8, Best Individual: [1, 3, 2, 0], Distance: 21\n",
            "Generation 9, Best Individual: [1, 3, 2, 0], Distance: 21\n",
            "Generation 10, Best Individual: [1, 3, 2, 0], Distance: 21\n",
            "Final Best Individual: [1, 3, 2, 0], Distance: 21\n"
          ]
        }
      ]
    },
    {
      "cell_type": "markdown",
      "source": [
        "## **Simulated annealing algorithm for travelling salesman problem:**"
      ],
      "metadata": {
        "id": "L3x4tpafCuPe"
      }
    },
    {
      "cell_type": "markdown",
      "source": [
        "What is simulated annealing? Simulated annealing is a method in computing that simulates the pysical process of solid annealing. Solid annealing is a porcess in which as meterial i.e., glass is raised to a high temperatire and then left too cool making it more ductile.\n",
        "\n",
        "Applying this to the travelling salesman problem each node represents a city and each route represents an individual and the fitness of the individual is calculated by the inverse of the route. Simulated anneling compares different candidate solutions and then decides which one is better for each route."
      ],
      "metadata": {
        "id": "cZbAICM4C1Aj"
      }
    },
    {
      "cell_type": "code",
      "source": [
        "import math\n",
        "\n",
        "# Example distance matrix (replace this with your actual distance matrix)\n",
        "graph = np.array=([\n",
        "    [0, 2, 9, 10],\n",
        "    [2, 0, 6, 4],\n",
        "    [9, 6, 0, 8],\n",
        "    [10, 4, 8, 0]\n",
        "])\n",
        "\n",
        "num_cities = len(graph)\n",
        "initial_temperature = 1000\n",
        "cooling_rate = 0.99\n",
        "iterations = 1000\n",
        "\n",
        "# calculate the distance of a tour\n",
        "def tour_distance(tour):\n",
        "    total_distance = 0\n",
        "    for i in range(len(tour) - 1):\n",
        "        total_distance += graph[tour[i]][tour[i + 1]]\n",
        "    total_distance += graph[tour[-1]][tour[0]]  # Return to the starting city\n",
        "    return total_distance\n",
        "\n",
        "# generate a random initial tour\n",
        "def random_tour():\n",
        "    return random.sample(range(num_cities), num_cities)\n",
        "\n",
        "# perform a 2-opt swap in a tour\n",
        "def two_opt_swap(tour, i, j):\n",
        "    new_tour = tour.copy()\n",
        "    new_tour[i:j+1] = reversed(new_tour[i:j+1])\n",
        "    return new_tour\n",
        "\n",
        "# Simulated Annealing algorithm\n",
        "def simulated_annealing(initial_temperature, cooling_rate, iterations):\n",
        "    current_tour = random_tour()\n",
        "    current_distance = tour_distance(current_tour)\n",
        "\n",
        "    best_tour = current_tour\n",
        "    best_distance = current_distance\n",
        "\n",
        "    temperature = initial_temperature\n",
        "\n",
        "    for iteration in range(iterations):\n",
        "\n",
        "        i, j = random.sample(range(num_cities), 2)\n",
        "\n",
        "        # Create a new tour by swapping cities\n",
        "        new_tour = two_opt_swap(current_tour, i, j)\n",
        "        new_distance = tour_distance(new_tour)\n",
        "\n",
        "        # Calculate the change in distance\n",
        "        delta_distance = new_distance - current_distance\n",
        "\n",
        "        if delta_distance < 0 or random.random() < math.exp(-delta_distance / temperature):\n",
        "            current_tour = new_tour\n",
        "            current_distance = new_distance\n",
        "\n",
        "            # Update the best solution if needed\n",
        "            if current_distance < best_distance:\n",
        "                best_tour = current_tour\n",
        "                best_distance = current_distance\n",
        "\n",
        "        # Cool down the temperature\n",
        "        temperature *= cooling_rate\n",
        "\n",
        "    return best_tour, best_distance\n",
        "\n",
        "# Run algorithm\n",
        "best_tour, best_distance = simulated_annealing(initial_temperature, cooling_rate, iterations)\n",
        "\n",
        "# Print the result\n",
        "print(\"Best Tour:\", best_tour)\n",
        "print(\"Best Distance:\", best_distance)"
      ],
      "metadata": {
        "colab": {
          "base_uri": "https://localhost:8080/"
        },
        "id": "VqSNDRS8Ah1Y",
        "outputId": "b1062dab-b5e9-4af0-be79-6166b864cda9"
      },
      "execution_count": null,
      "outputs": [
        {
          "output_type": "stream",
          "name": "stdout",
          "text": [
            "Best Tour: [2, 0, 1, 3]\n",
            "Best Distance: 23\n"
          ]
        }
      ]
    },
    {
      "cell_type": "markdown",
      "source": [
        "# **Week 7:**"
      ],
      "metadata": {
        "id": "hmmmxfAwEaWq"
      }
    },
    {
      "cell_type": "markdown",
      "source": [
        "## **Markov chains:**\n",
        "\n",
        "Implement a Markov chain working with whole words instead of letters\n",
        "\n",
        "Leave the number of words in the chain as an adjustable parameter, but due to memory limitations keep it at two\n",
        "\n",
        "Example: k=2 \"word1 word2\" as one of the possible sequences\n",
        "\n",
        "To test your implementation, you can use a smaller text\n",
        "\n",
        "If you want, you can use somthing larger as an input test such as a small book"
      ],
      "metadata": {
        "id": "e4l7rec-EdzF"
      }
    },
    {
      "cell_type": "code",
      "source": [
        "import random\n",
        "from collections import defaultdict\n",
        "\n",
        "def generate_word_chain(text, k):\n",
        "    words = text.split()\n",
        "    word_chain = defaultdict(list)\n",
        "\n",
        "    for i in range(len(words) - k):\n",
        "        current_state = tuple(words[i:i + k])\n",
        "        next_word = words[i + k]\n",
        "        word_chain[current_state].append(next_word)\n",
        "\n",
        "    return word_chain\n",
        "\n",
        "def generate_text(word_chain, seed, length):\n",
        "    current_state = tuple(seed.split())\n",
        "    generated_text = list(current_state)\n",
        "\n",
        "    for _ in range(length - len(seed.split())):\n",
        "        next_word = random.choice(word_chain[current_state])\n",
        "        generated_text.append(next_word)\n",
        "        current_state = tuple(generated_text[-k:])\n",
        "\n",
        "    return ' '.join(generated_text)\n",
        "\n",
        "# Example text for testing\n",
        "test_text = \"How's one to know? I'd meet you where the spirit meets the bones In a faith forgotten land In from the snow Your touch brought forth an incandescent glow Tarnished but so grand And the old widow goes to the stone every day But I don't, I just sit here and wait Grieving for the living\"\n",
        "\n",
        "# Adjustable parameters\n",
        "k = 2\n",
        "seed = \"small example\"\n",
        "length = 25\n",
        "\n",
        "# Generate Markov chain and text\n",
        "word_chain = generate_word_chain(test_text, k)\n",
        "generated_text = generate_text(word_chain, seed, length)\n",
        "\n",
        "# Display the results\n",
        "print(\"Original Text:\")\n",
        "print(test_text)\n",
        "print(\"\\nGenerated Text:\")\n",
        "print(generated_text)\n"
      ],
      "metadata": {
        "colab": {
          "base_uri": "https://localhost:8080/",
          "height": 375
        },
        "id": "9cLX5UIJE6TZ",
        "outputId": "ab721b7e-763d-4edc-d150-83b7795d2edb"
      },
      "execution_count": 1,
      "outputs": [
        {
          "output_type": "error",
          "ename": "IndexError",
          "evalue": "ignored",
          "traceback": [
            "\u001b[0;31m---------------------------------------------------------------------------\u001b[0m",
            "\u001b[0;31mIndexError\u001b[0m                                Traceback (most recent call last)",
            "\u001b[0;32m<ipython-input-1-a2afc5a4c99a>\u001b[0m in \u001b[0;36m<cell line: 36>\u001b[0;34m()\u001b[0m\n\u001b[1;32m     34\u001b[0m \u001b[0;31m# Generate Markov chain and text\u001b[0m\u001b[0;34m\u001b[0m\u001b[0;34m\u001b[0m\u001b[0m\n\u001b[1;32m     35\u001b[0m \u001b[0mword_chain\u001b[0m \u001b[0;34m=\u001b[0m \u001b[0mgenerate_word_chain\u001b[0m\u001b[0;34m(\u001b[0m\u001b[0mtest_text\u001b[0m\u001b[0;34m,\u001b[0m \u001b[0mk\u001b[0m\u001b[0;34m)\u001b[0m\u001b[0;34m\u001b[0m\u001b[0;34m\u001b[0m\u001b[0m\n\u001b[0;32m---> 36\u001b[0;31m \u001b[0mgenerated_text\u001b[0m \u001b[0;34m=\u001b[0m \u001b[0mgenerate_text\u001b[0m\u001b[0;34m(\u001b[0m\u001b[0mword_chain\u001b[0m\u001b[0;34m,\u001b[0m \u001b[0mseed\u001b[0m\u001b[0;34m,\u001b[0m \u001b[0mlength\u001b[0m\u001b[0;34m)\u001b[0m\u001b[0;34m\u001b[0m\u001b[0;34m\u001b[0m\u001b[0m\n\u001b[0m\u001b[1;32m     37\u001b[0m \u001b[0;34m\u001b[0m\u001b[0m\n\u001b[1;32m     38\u001b[0m \u001b[0;31m# Display the results\u001b[0m\u001b[0;34m\u001b[0m\u001b[0;34m\u001b[0m\u001b[0m\n",
            "\u001b[0;32m<ipython-input-1-a2afc5a4c99a>\u001b[0m in \u001b[0;36mgenerate_text\u001b[0;34m(word_chain, seed, length)\u001b[0m\n\u001b[1;32m     18\u001b[0m \u001b[0;34m\u001b[0m\u001b[0m\n\u001b[1;32m     19\u001b[0m     \u001b[0;32mfor\u001b[0m \u001b[0m_\u001b[0m \u001b[0;32min\u001b[0m \u001b[0mrange\u001b[0m\u001b[0;34m(\u001b[0m\u001b[0mlength\u001b[0m \u001b[0;34m-\u001b[0m \u001b[0mlen\u001b[0m\u001b[0;34m(\u001b[0m\u001b[0mseed\u001b[0m\u001b[0;34m.\u001b[0m\u001b[0msplit\u001b[0m\u001b[0;34m(\u001b[0m\u001b[0;34m)\u001b[0m\u001b[0;34m)\u001b[0m\u001b[0;34m)\u001b[0m\u001b[0;34m:\u001b[0m\u001b[0;34m\u001b[0m\u001b[0;34m\u001b[0m\u001b[0m\n\u001b[0;32m---> 20\u001b[0;31m         \u001b[0mnext_word\u001b[0m \u001b[0;34m=\u001b[0m \u001b[0mrandom\u001b[0m\u001b[0;34m.\u001b[0m\u001b[0mchoice\u001b[0m\u001b[0;34m(\u001b[0m\u001b[0mword_chain\u001b[0m\u001b[0;34m[\u001b[0m\u001b[0mcurrent_state\u001b[0m\u001b[0;34m]\u001b[0m\u001b[0;34m)\u001b[0m\u001b[0;34m\u001b[0m\u001b[0;34m\u001b[0m\u001b[0m\n\u001b[0m\u001b[1;32m     21\u001b[0m         \u001b[0mgenerated_text\u001b[0m\u001b[0;34m.\u001b[0m\u001b[0mappend\u001b[0m\u001b[0;34m(\u001b[0m\u001b[0mnext_word\u001b[0m\u001b[0;34m)\u001b[0m\u001b[0;34m\u001b[0m\u001b[0;34m\u001b[0m\u001b[0m\n\u001b[1;32m     22\u001b[0m         \u001b[0mcurrent_state\u001b[0m \u001b[0;34m=\u001b[0m \u001b[0mtuple\u001b[0m\u001b[0;34m(\u001b[0m\u001b[0mgenerated_text\u001b[0m\u001b[0;34m[\u001b[0m\u001b[0;34m-\u001b[0m\u001b[0mk\u001b[0m\u001b[0;34m:\u001b[0m\u001b[0;34m]\u001b[0m\u001b[0;34m)\u001b[0m\u001b[0;34m\u001b[0m\u001b[0;34m\u001b[0m\u001b[0m\n",
            "\u001b[0;32m/usr/lib/python3.10/random.py\u001b[0m in \u001b[0;36mchoice\u001b[0;34m(self, seq)\u001b[0m\n\u001b[1;32m    376\u001b[0m         \u001b[0;34m\"\"\"Choose a random element from a non-empty sequence.\"\"\"\u001b[0m\u001b[0;34m\u001b[0m\u001b[0;34m\u001b[0m\u001b[0m\n\u001b[1;32m    377\u001b[0m         \u001b[0;31m# raises IndexError if seq is empty\u001b[0m\u001b[0;34m\u001b[0m\u001b[0;34m\u001b[0m\u001b[0m\n\u001b[0;32m--> 378\u001b[0;31m         \u001b[0;32mreturn\u001b[0m \u001b[0mseq\u001b[0m\u001b[0;34m[\u001b[0m\u001b[0mself\u001b[0m\u001b[0;34m.\u001b[0m\u001b[0m_randbelow\u001b[0m\u001b[0;34m(\u001b[0m\u001b[0mlen\u001b[0m\u001b[0;34m(\u001b[0m\u001b[0mseq\u001b[0m\u001b[0;34m)\u001b[0m\u001b[0;34m)\u001b[0m\u001b[0;34m]\u001b[0m\u001b[0;34m\u001b[0m\u001b[0;34m\u001b[0m\u001b[0m\n\u001b[0m\u001b[1;32m    379\u001b[0m \u001b[0;34m\u001b[0m\u001b[0m\n\u001b[1;32m    380\u001b[0m     \u001b[0;32mdef\u001b[0m \u001b[0mshuffle\u001b[0m\u001b[0;34m(\u001b[0m\u001b[0mself\u001b[0m\u001b[0;34m,\u001b[0m \u001b[0mx\u001b[0m\u001b[0;34m,\u001b[0m \u001b[0mrandom\u001b[0m\u001b[0;34m=\u001b[0m\u001b[0;32mNone\u001b[0m\u001b[0;34m)\u001b[0m\u001b[0;34m:\u001b[0m\u001b[0;34m\u001b[0m\u001b[0;34m\u001b[0m\u001b[0m\n",
            "\u001b[0;31mIndexError\u001b[0m: list index out of range"
          ]
        }
      ]
    },
    {
      "cell_type": "markdown",
      "source": [
        "# **Week 8:**\n",
        "\n",
        "- Implement a binary linear classification model\n",
        "- Use logistic regression with stochastic gradient descent\n",
        "- Logistic regression uses sigmoid function\n",
        "- Classify between poisonous or not"
      ],
      "metadata": {
        "id": "Wbjsd35UEsCG"
      }
    },
    {
      "cell_type": "code",
      "source": [
        "pip install ucimlrepo"
      ],
      "metadata": {
        "colab": {
          "base_uri": "https://localhost:8080/"
        },
        "id": "N_nzc52AOWpB",
        "outputId": "8dfa1f71-75d4-436c-cdb6-cb58fb7411fe"
      },
      "execution_count": null,
      "outputs": [
        {
          "output_type": "stream",
          "name": "stdout",
          "text": [
            "Collecting ucimlrepo\n",
            "  Downloading ucimlrepo-0.0.3-py3-none-any.whl (7.0 kB)\n",
            "Installing collected packages: ucimlrepo\n",
            "Successfully installed ucimlrepo-0.0.3\n"
          ]
        }
      ]
    },
    {
      "cell_type": "code",
      "source": [
        "import pandas as pd\n",
        "from sklearn.model_selection import train_test_split\n",
        "from sklearn.preprocessing import LabelEncoder\n",
        "from sklearn.linear_model import LogisticRegression\n",
        "from sklearn.metrics import accuracy_score, classification_report\n",
        "\n",
        "from ucimlrepo import fetch_ucirepo\n",
        "\n",
        "\n",
        "mushroom = fetch_ucirepo(id=73)\n",
        "\n",
        "\n",
        "data = pd.DataFrame(data=mushroom.data, columns=mushroom.feature_names)\n",
        "data['class'] = mushroom.target\n",
        "\n",
        "le = LabelEncoder()\n",
        "for column in data.columns:\n",
        "    data[column] = le.fit_transform(data[column])\n",
        "\n",
        "\n",
        "X = data.drop(\"class\", axis=1)\n",
        "y = data[\"class\"]\n",
        "\n",
        "\n",
        "X_train, X_test, y_train, y_test = train_test_split(X, y, test_size=0.2, random_state=42)\n",
        "\n",
        "\n",
        "model = LogisticRegression()\n",
        "model.fit(X_train, y_train)\n",
        "\n",
        "# Make predictions on the test set\n",
        "y_pred = model.predict(X_test)\n",
        "\n",
        "# Evaluate the model\n",
        "accuracy = accuracy_score(y_test, y_pred)\n",
        "report = classification_report(y_test, y_pred)\n",
        "\n",
        "# Display the results\n",
        "print(\"\\nAccuracy:\", accuracy)\n",
        "print(\"\\nClassification Report:\")\n",
        "print(report)\n",
        "\n"
      ],
      "metadata": {
        "colab": {
          "base_uri": "https://localhost:8080/",
          "height": 375
        },
        "id": "zJeUaTWON1xo",
        "outputId": "fe18ba9b-d05d-49af-edc3-2ab726f3a25d"
      },
      "execution_count": null,
      "outputs": [
        {
          "output_type": "error",
          "ename": "TypeError",
          "evalue": "ignored",
          "traceback": [
            "\u001b[0;31m---------------------------------------------------------------------------\u001b[0m",
            "\u001b[0;31mTypeError\u001b[0m                                 Traceback (most recent call last)",
            "\u001b[0;32m<ipython-input-53-9a14d5d99170>\u001b[0m in \u001b[0;36m<cell line: 2>\u001b[0;34m()\u001b[0m\n\u001b[1;32m      1\u001b[0m \u001b[0;32mimport\u001b[0m \u001b[0mpandas\u001b[0m \u001b[0;32mas\u001b[0m \u001b[0mpd\u001b[0m\u001b[0;34m\u001b[0m\u001b[0;34m\u001b[0m\u001b[0m\n\u001b[0;32m----> 2\u001b[0;31m \u001b[0;32mfrom\u001b[0m \u001b[0msklearn\u001b[0m\u001b[0;34m.\u001b[0m\u001b[0mmodel_selection\u001b[0m \u001b[0;32mimport\u001b[0m \u001b[0mtrain_test_split\u001b[0m\u001b[0;34m\u001b[0m\u001b[0;34m\u001b[0m\u001b[0m\n\u001b[0m\u001b[1;32m      3\u001b[0m \u001b[0;32mfrom\u001b[0m \u001b[0msklearn\u001b[0m\u001b[0;34m.\u001b[0m\u001b[0mpreprocessing\u001b[0m \u001b[0;32mimport\u001b[0m \u001b[0mLabelEncoder\u001b[0m\u001b[0;34m\u001b[0m\u001b[0;34m\u001b[0m\u001b[0m\n\u001b[1;32m      4\u001b[0m \u001b[0;32mfrom\u001b[0m \u001b[0msklearn\u001b[0m\u001b[0;34m.\u001b[0m\u001b[0mlinear_model\u001b[0m \u001b[0;32mimport\u001b[0m \u001b[0mLogisticRegression\u001b[0m\u001b[0;34m\u001b[0m\u001b[0;34m\u001b[0m\u001b[0m\n\u001b[1;32m      5\u001b[0m \u001b[0;32mfrom\u001b[0m \u001b[0msklearn\u001b[0m\u001b[0;34m.\u001b[0m\u001b[0mmetrics\u001b[0m \u001b[0;32mimport\u001b[0m \u001b[0maccuracy_score\u001b[0m\u001b[0;34m,\u001b[0m \u001b[0mclassification_report\u001b[0m\u001b[0;34m\u001b[0m\u001b[0;34m\u001b[0m\u001b[0m\n",
            "\u001b[0;32m/usr/local/lib/python3.10/dist-packages/sklearn/__init__.py\u001b[0m in \u001b[0;36m<module>\u001b[0;34m\u001b[0m\n\u001b[1;32m     80\u001b[0m     \u001b[0;32mfrom\u001b[0m \u001b[0;34m.\u001b[0m \u001b[0;32mimport\u001b[0m \u001b[0m_distributor_init\u001b[0m  \u001b[0;31m# noqa: F401\u001b[0m\u001b[0;34m\u001b[0m\u001b[0;34m\u001b[0m\u001b[0m\n\u001b[1;32m     81\u001b[0m     \u001b[0;32mfrom\u001b[0m \u001b[0;34m.\u001b[0m \u001b[0;32mimport\u001b[0m \u001b[0m__check_build\u001b[0m  \u001b[0;31m# noqa: F401\u001b[0m\u001b[0;34m\u001b[0m\u001b[0;34m\u001b[0m\u001b[0m\n\u001b[0;32m---> 82\u001b[0;31m     \u001b[0;32mfrom\u001b[0m \u001b[0;34m.\u001b[0m\u001b[0mbase\u001b[0m \u001b[0;32mimport\u001b[0m \u001b[0mclone\u001b[0m\u001b[0;34m\u001b[0m\u001b[0;34m\u001b[0m\u001b[0m\n\u001b[0m\u001b[1;32m     83\u001b[0m     \u001b[0;32mfrom\u001b[0m \u001b[0;34m.\u001b[0m\u001b[0mutils\u001b[0m\u001b[0;34m.\u001b[0m\u001b[0m_show_versions\u001b[0m \u001b[0;32mimport\u001b[0m \u001b[0mshow_versions\u001b[0m\u001b[0;34m\u001b[0m\u001b[0;34m\u001b[0m\u001b[0m\n\u001b[1;32m     84\u001b[0m \u001b[0;34m\u001b[0m\u001b[0m\n",
            "\u001b[0;32m/usr/local/lib/python3.10/dist-packages/sklearn/base.py\u001b[0m in \u001b[0;36m<module>\u001b[0;34m\u001b[0m\n\u001b[1;32m     15\u001b[0m \u001b[0;32mfrom\u001b[0m \u001b[0;34m.\u001b[0m \u001b[0;32mimport\u001b[0m \u001b[0m__version__\u001b[0m\u001b[0;34m\u001b[0m\u001b[0;34m\u001b[0m\u001b[0m\n\u001b[1;32m     16\u001b[0m \u001b[0;32mfrom\u001b[0m \u001b[0;34m.\u001b[0m\u001b[0m_config\u001b[0m \u001b[0;32mimport\u001b[0m \u001b[0mget_config\u001b[0m\u001b[0;34m\u001b[0m\u001b[0;34m\u001b[0m\u001b[0m\n\u001b[0;32m---> 17\u001b[0;31m \u001b[0;32mfrom\u001b[0m \u001b[0;34m.\u001b[0m\u001b[0mutils\u001b[0m \u001b[0;32mimport\u001b[0m \u001b[0m_IS_32BIT\u001b[0m\u001b[0;34m\u001b[0m\u001b[0;34m\u001b[0m\u001b[0m\n\u001b[0m\u001b[1;32m     18\u001b[0m \u001b[0;32mfrom\u001b[0m \u001b[0;34m.\u001b[0m\u001b[0mutils\u001b[0m\u001b[0;34m.\u001b[0m\u001b[0m_set_output\u001b[0m \u001b[0;32mimport\u001b[0m \u001b[0m_SetOutputMixin\u001b[0m\u001b[0;34m\u001b[0m\u001b[0;34m\u001b[0m\u001b[0m\n\u001b[1;32m     19\u001b[0m from .utils._tags import (\n",
            "\u001b[0;32m/usr/local/lib/python3.10/dist-packages/sklearn/utils/__init__.py\u001b[0m in \u001b[0;36m<module>\u001b[0;34m\u001b[0m\n\u001b[1;32m     23\u001b[0m \u001b[0;32mfrom\u001b[0m \u001b[0;34m.\u001b[0m\u001b[0mdeprecation\u001b[0m \u001b[0;32mimport\u001b[0m \u001b[0mdeprecated\u001b[0m\u001b[0;34m\u001b[0m\u001b[0;34m\u001b[0m\u001b[0m\n\u001b[1;32m     24\u001b[0m \u001b[0;32mfrom\u001b[0m \u001b[0;34m.\u001b[0m\u001b[0mdiscovery\u001b[0m \u001b[0;32mimport\u001b[0m \u001b[0mall_estimators\u001b[0m\u001b[0;34m\u001b[0m\u001b[0;34m\u001b[0m\u001b[0m\n\u001b[0;32m---> 25\u001b[0;31m \u001b[0;32mfrom\u001b[0m \u001b[0;34m.\u001b[0m\u001b[0mfixes\u001b[0m \u001b[0;32mimport\u001b[0m \u001b[0mparse_version\u001b[0m\u001b[0;34m,\u001b[0m \u001b[0mthreadpool_info\u001b[0m\u001b[0;34m\u001b[0m\u001b[0;34m\u001b[0m\u001b[0m\n\u001b[0m\u001b[1;32m     26\u001b[0m \u001b[0;32mfrom\u001b[0m \u001b[0;34m.\u001b[0m\u001b[0m_estimator_html_repr\u001b[0m \u001b[0;32mimport\u001b[0m \u001b[0mestimator_html_repr\u001b[0m\u001b[0;34m\u001b[0m\u001b[0;34m\u001b[0m\u001b[0m\n\u001b[1;32m     27\u001b[0m from .validation import (\n",
            "\u001b[0;32m/usr/local/lib/python3.10/dist-packages/sklearn/utils/fixes.py\u001b[0m in \u001b[0;36m<module>\u001b[0;34m\u001b[0m\n\u001b[1;32m     17\u001b[0m \u001b[0;32mimport\u001b[0m \u001b[0mnumpy\u001b[0m \u001b[0;32mas\u001b[0m \u001b[0mnp\u001b[0m\u001b[0;34m\u001b[0m\u001b[0;34m\u001b[0m\u001b[0m\n\u001b[1;32m     18\u001b[0m \u001b[0;32mimport\u001b[0m \u001b[0mscipy\u001b[0m\u001b[0;34m\u001b[0m\u001b[0;34m\u001b[0m\u001b[0m\n\u001b[0;32m---> 19\u001b[0;31m \u001b[0;32mimport\u001b[0m \u001b[0mscipy\u001b[0m\u001b[0;34m.\u001b[0m\u001b[0mstats\u001b[0m\u001b[0;34m\u001b[0m\u001b[0;34m\u001b[0m\u001b[0m\n\u001b[0m\u001b[1;32m     20\u001b[0m \u001b[0;32mimport\u001b[0m \u001b[0mthreadpoolctl\u001b[0m\u001b[0;34m\u001b[0m\u001b[0;34m\u001b[0m\u001b[0m\n\u001b[1;32m     21\u001b[0m \u001b[0;34m\u001b[0m\u001b[0m\n",
            "\u001b[0;32m/usr/local/lib/python3.10/dist-packages/scipy/stats/__init__.py\u001b[0m in \u001b[0;36m<module>\u001b[0;34m\u001b[0m\n\u001b[1;32m    606\u001b[0m from ._warnings_errors import (ConstantInputWarning, NearConstantInputWarning,\n\u001b[1;32m    607\u001b[0m                                DegenerateDataWarning, FitError)\n\u001b[0;32m--> 608\u001b[0;31m \u001b[0;32mfrom\u001b[0m \u001b[0;34m.\u001b[0m\u001b[0m_stats_py\u001b[0m \u001b[0;32mimport\u001b[0m \u001b[0;34m*\u001b[0m\u001b[0;34m\u001b[0m\u001b[0;34m\u001b[0m\u001b[0m\n\u001b[0m\u001b[1;32m    609\u001b[0m \u001b[0;32mfrom\u001b[0m \u001b[0;34m.\u001b[0m\u001b[0m_variation\u001b[0m \u001b[0;32mimport\u001b[0m \u001b[0mvariation\u001b[0m\u001b[0;34m\u001b[0m\u001b[0;34m\u001b[0m\u001b[0m\n\u001b[1;32m    610\u001b[0m \u001b[0;32mfrom\u001b[0m \u001b[0;34m.\u001b[0m\u001b[0mdistributions\u001b[0m \u001b[0;32mimport\u001b[0m \u001b[0;34m*\u001b[0m\u001b[0;34m\u001b[0m\u001b[0;34m\u001b[0m\u001b[0m\n",
            "\u001b[0;32m/usr/local/lib/python3.10/dist-packages/scipy/stats/_stats_py.py\u001b[0m in \u001b[0;36m<module>\u001b[0;34m\u001b[0m\n\u001b[1;32m     44\u001b[0m \u001b[0;32mimport\u001b[0m \u001b[0mscipy\u001b[0m\u001b[0;34m.\u001b[0m\u001b[0mspecial\u001b[0m \u001b[0;32mas\u001b[0m \u001b[0mspecial\u001b[0m\u001b[0;34m\u001b[0m\u001b[0;34m\u001b[0m\u001b[0m\n\u001b[1;32m     45\u001b[0m \u001b[0;32mfrom\u001b[0m \u001b[0mscipy\u001b[0m \u001b[0;32mimport\u001b[0m \u001b[0mlinalg\u001b[0m\u001b[0;34m\u001b[0m\u001b[0;34m\u001b[0m\u001b[0m\n\u001b[0;32m---> 46\u001b[0;31m \u001b[0;32mfrom\u001b[0m \u001b[0;34m.\u001b[0m \u001b[0;32mimport\u001b[0m \u001b[0mdistributions\u001b[0m\u001b[0;34m\u001b[0m\u001b[0;34m\u001b[0m\u001b[0m\n\u001b[0m\u001b[1;32m     47\u001b[0m \u001b[0;32mfrom\u001b[0m \u001b[0;34m.\u001b[0m \u001b[0;32mimport\u001b[0m \u001b[0m_mstats_basic\u001b[0m \u001b[0;32mas\u001b[0m \u001b[0mmstats_basic\u001b[0m\u001b[0;34m\u001b[0m\u001b[0;34m\u001b[0m\u001b[0m\n\u001b[1;32m     48\u001b[0m from ._stats_mstats_common import (_find_repeats, linregress, theilslopes,\n",
            "\u001b[0;32m/usr/local/lib/python3.10/dist-packages/scipy/stats/distributions.py\u001b[0m in \u001b[0;36m<module>\u001b[0;34m\u001b[0m\n\u001b[1;32m      6\u001b[0m \u001b[0;31m#       instead of `git blame -Lxxx,+x`.\u001b[0m\u001b[0;34m\u001b[0m\u001b[0;34m\u001b[0m\u001b[0m\n\u001b[1;32m      7\u001b[0m \u001b[0;31m#\u001b[0m\u001b[0;34m\u001b[0m\u001b[0;34m\u001b[0m\u001b[0m\n\u001b[0;32m----> 8\u001b[0;31m \u001b[0;32mfrom\u001b[0m \u001b[0;34m.\u001b[0m\u001b[0m_distn_infrastructure\u001b[0m \u001b[0;32mimport\u001b[0m \u001b[0;34m(\u001b[0m\u001b[0mrv_discrete\u001b[0m\u001b[0;34m,\u001b[0m \u001b[0mrv_continuous\u001b[0m\u001b[0;34m,\u001b[0m \u001b[0mrv_frozen\u001b[0m\u001b[0;34m)\u001b[0m  \u001b[0;31m# noqa: F401\u001b[0m\u001b[0;34m\u001b[0m\u001b[0;34m\u001b[0m\u001b[0m\n\u001b[0m\u001b[1;32m      9\u001b[0m \u001b[0;34m\u001b[0m\u001b[0m\n\u001b[1;32m     10\u001b[0m \u001b[0;32mfrom\u001b[0m \u001b[0;34m.\u001b[0m \u001b[0;32mimport\u001b[0m \u001b[0m_continuous_distns\u001b[0m\u001b[0;34m\u001b[0m\u001b[0;34m\u001b[0m\u001b[0m\n",
            "\u001b[0;32m/usr/local/lib/python3.10/dist-packages/scipy/stats/_distn_infrastructure.py\u001b[0m in \u001b[0;36m<module>\u001b[0;34m\u001b[0m\n\u001b[1;32m     24\u001b[0m \u001b[0;34m\u001b[0m\u001b[0m\n\u001b[1;32m     25\u001b[0m \u001b[0;31m# for functions of continuous distributions (e.g. moments, entropy, cdf)\u001b[0m\u001b[0;34m\u001b[0m\u001b[0;34m\u001b[0m\u001b[0m\n\u001b[0;32m---> 26\u001b[0;31m \u001b[0;32mfrom\u001b[0m \u001b[0mscipy\u001b[0m \u001b[0;32mimport\u001b[0m \u001b[0mintegrate\u001b[0m\u001b[0;34m\u001b[0m\u001b[0;34m\u001b[0m\u001b[0m\n\u001b[0m\u001b[1;32m     27\u001b[0m \u001b[0;34m\u001b[0m\u001b[0m\n\u001b[1;32m     28\u001b[0m \u001b[0;31m# to approximate the pdf of a continuous distribution given its cdf\u001b[0m\u001b[0;34m\u001b[0m\u001b[0;34m\u001b[0m\u001b[0m\n",
            "\u001b[0;32m/usr/lib/python3.10/importlib/_bootstrap.py\u001b[0m in \u001b[0;36m_handle_fromlist\u001b[0;34m(module, fromlist, import_, recursive)\u001b[0m\n",
            "\u001b[0;32m/usr/local/lib/python3.10/dist-packages/scipy/__init__.py\u001b[0m in \u001b[0;36m__getattr__\u001b[0;34m(name)\u001b[0m\n\u001b[1;32m    187\u001b[0m     \u001b[0;32mdef\u001b[0m \u001b[0m__getattr__\u001b[0m\u001b[0;34m(\u001b[0m\u001b[0mname\u001b[0m\u001b[0;34m)\u001b[0m\u001b[0;34m:\u001b[0m\u001b[0;34m\u001b[0m\u001b[0;34m\u001b[0m\u001b[0m\n\u001b[1;32m    188\u001b[0m         \u001b[0;32mif\u001b[0m \u001b[0mname\u001b[0m \u001b[0;32min\u001b[0m \u001b[0msubmodules\u001b[0m\u001b[0;34m:\u001b[0m\u001b[0;34m\u001b[0m\u001b[0;34m\u001b[0m\u001b[0m\n\u001b[0;32m--> 189\u001b[0;31m             \u001b[0;32mreturn\u001b[0m \u001b[0m_importlib\u001b[0m\u001b[0;34m.\u001b[0m\u001b[0mimport_module\u001b[0m\u001b[0;34m(\u001b[0m\u001b[0;34mf'scipy.{name}'\u001b[0m\u001b[0;34m)\u001b[0m\u001b[0;34m\u001b[0m\u001b[0;34m\u001b[0m\u001b[0m\n\u001b[0m\u001b[1;32m    190\u001b[0m         \u001b[0;32melse\u001b[0m\u001b[0;34m:\u001b[0m\u001b[0;34m\u001b[0m\u001b[0;34m\u001b[0m\u001b[0m\n\u001b[1;32m    191\u001b[0m             \u001b[0;32mtry\u001b[0m\u001b[0;34m:\u001b[0m\u001b[0;34m\u001b[0m\u001b[0;34m\u001b[0m\u001b[0m\n",
            "\u001b[0;32m/usr/lib/python3.10/importlib/__init__.py\u001b[0m in \u001b[0;36mimport_module\u001b[0;34m(name, package)\u001b[0m\n\u001b[1;32m    124\u001b[0m                 \u001b[0;32mbreak\u001b[0m\u001b[0;34m\u001b[0m\u001b[0;34m\u001b[0m\u001b[0m\n\u001b[1;32m    125\u001b[0m             \u001b[0mlevel\u001b[0m \u001b[0;34m+=\u001b[0m \u001b[0;36m1\u001b[0m\u001b[0;34m\u001b[0m\u001b[0;34m\u001b[0m\u001b[0m\n\u001b[0;32m--> 126\u001b[0;31m     \u001b[0;32mreturn\u001b[0m \u001b[0m_bootstrap\u001b[0m\u001b[0;34m.\u001b[0m\u001b[0m_gcd_import\u001b[0m\u001b[0;34m(\u001b[0m\u001b[0mname\u001b[0m\u001b[0;34m[\u001b[0m\u001b[0mlevel\u001b[0m\u001b[0;34m:\u001b[0m\u001b[0;34m]\u001b[0m\u001b[0;34m,\u001b[0m \u001b[0mpackage\u001b[0m\u001b[0;34m,\u001b[0m \u001b[0mlevel\u001b[0m\u001b[0;34m)\u001b[0m\u001b[0;34m\u001b[0m\u001b[0;34m\u001b[0m\u001b[0m\n\u001b[0m\u001b[1;32m    127\u001b[0m \u001b[0;34m\u001b[0m\u001b[0m\n\u001b[1;32m    128\u001b[0m \u001b[0;34m\u001b[0m\u001b[0m\n",
            "\u001b[0;32m/usr/local/lib/python3.10/dist-packages/scipy/integrate/__init__.py\u001b[0m in \u001b[0;36m<module>\u001b[0;34m\u001b[0m\n\u001b[1;32m     95\u001b[0m \u001b[0;32mfrom\u001b[0m \u001b[0;34m.\u001b[0m\u001b[0m_ode\u001b[0m \u001b[0;32mimport\u001b[0m \u001b[0;34m*\u001b[0m\u001b[0;34m\u001b[0m\u001b[0;34m\u001b[0m\u001b[0m\n\u001b[1;32m     96\u001b[0m \u001b[0;32mfrom\u001b[0m \u001b[0;34m.\u001b[0m\u001b[0m_bvp\u001b[0m \u001b[0;32mimport\u001b[0m \u001b[0msolve_bvp\u001b[0m\u001b[0;34m\u001b[0m\u001b[0;34m\u001b[0m\u001b[0m\n\u001b[0;32m---> 97\u001b[0;31m from ._ivp import (solve_ivp, OdeSolution, DenseOutput,\n\u001b[0m\u001b[1;32m     98\u001b[0m                    OdeSolver, RK23, RK45, DOP853, Radau, BDF, LSODA)\n\u001b[1;32m     99\u001b[0m \u001b[0;32mfrom\u001b[0m \u001b[0;34m.\u001b[0m\u001b[0m_quad_vec\u001b[0m \u001b[0;32mimport\u001b[0m \u001b[0mquad_vec\u001b[0m\u001b[0;34m\u001b[0m\u001b[0;34m\u001b[0m\u001b[0m\n",
            "\u001b[0;32m/usr/local/lib/python3.10/dist-packages/scipy/integrate/_ivp/__init__.py\u001b[0m in \u001b[0;36m<module>\u001b[0;34m\u001b[0m\n\u001b[1;32m      1\u001b[0m \u001b[0;34m\"\"\"Suite of ODE solvers implemented in Python.\"\"\"\u001b[0m\u001b[0;34m\u001b[0m\u001b[0;34m\u001b[0m\u001b[0m\n\u001b[0;32m----> 2\u001b[0;31m \u001b[0;32mfrom\u001b[0m \u001b[0;34m.\u001b[0m\u001b[0mivp\u001b[0m \u001b[0;32mimport\u001b[0m \u001b[0msolve_ivp\u001b[0m\u001b[0;34m\u001b[0m\u001b[0;34m\u001b[0m\u001b[0m\n\u001b[0m\u001b[1;32m      3\u001b[0m \u001b[0;32mfrom\u001b[0m \u001b[0;34m.\u001b[0m\u001b[0mrk\u001b[0m \u001b[0;32mimport\u001b[0m \u001b[0mRK23\u001b[0m\u001b[0;34m,\u001b[0m \u001b[0mRK45\u001b[0m\u001b[0;34m,\u001b[0m \u001b[0mDOP853\u001b[0m\u001b[0;34m\u001b[0m\u001b[0;34m\u001b[0m\u001b[0m\n\u001b[1;32m      4\u001b[0m \u001b[0;32mfrom\u001b[0m \u001b[0;34m.\u001b[0m\u001b[0mradau\u001b[0m \u001b[0;32mimport\u001b[0m \u001b[0mRadau\u001b[0m\u001b[0;34m\u001b[0m\u001b[0;34m\u001b[0m\u001b[0m\n\u001b[1;32m      5\u001b[0m \u001b[0;32mfrom\u001b[0m \u001b[0;34m.\u001b[0m\u001b[0mbdf\u001b[0m \u001b[0;32mimport\u001b[0m \u001b[0mBDF\u001b[0m\u001b[0;34m\u001b[0m\u001b[0;34m\u001b[0m\u001b[0m\n",
            "\u001b[0;32m/usr/local/lib/python3.10/dist-packages/scipy/integrate/_ivp/ivp.py\u001b[0m in \u001b[0;36m<module>\u001b[0;34m\u001b[0m\n\u001b[1;32m      2\u001b[0m \u001b[0;32mimport\u001b[0m \u001b[0mnumpy\u001b[0m \u001b[0;32mas\u001b[0m \u001b[0mnp\u001b[0m\u001b[0;34m\u001b[0m\u001b[0;34m\u001b[0m\u001b[0m\n\u001b[1;32m      3\u001b[0m \u001b[0;32mfrom\u001b[0m \u001b[0;34m.\u001b[0m\u001b[0mbdf\u001b[0m \u001b[0;32mimport\u001b[0m \u001b[0mBDF\u001b[0m\u001b[0;34m\u001b[0m\u001b[0;34m\u001b[0m\u001b[0m\n\u001b[0;32m----> 4\u001b[0;31m \u001b[0;32mfrom\u001b[0m \u001b[0;34m.\u001b[0m\u001b[0mradau\u001b[0m \u001b[0;32mimport\u001b[0m \u001b[0mRadau\u001b[0m\u001b[0;34m\u001b[0m\u001b[0;34m\u001b[0m\u001b[0m\n\u001b[0m\u001b[1;32m      5\u001b[0m \u001b[0;32mfrom\u001b[0m \u001b[0;34m.\u001b[0m\u001b[0mrk\u001b[0m \u001b[0;32mimport\u001b[0m \u001b[0mRK23\u001b[0m\u001b[0;34m,\u001b[0m \u001b[0mRK45\u001b[0m\u001b[0;34m,\u001b[0m \u001b[0mDOP853\u001b[0m\u001b[0;34m\u001b[0m\u001b[0;34m\u001b[0m\u001b[0m\n\u001b[1;32m      6\u001b[0m \u001b[0;32mfrom\u001b[0m \u001b[0;34m.\u001b[0m\u001b[0mlsoda\u001b[0m \u001b[0;32mimport\u001b[0m \u001b[0mLSODA\u001b[0m\u001b[0;34m\u001b[0m\u001b[0;34m\u001b[0m\u001b[0m\n",
            "\u001b[0;32m/usr/local/lib/python3.10/dist-packages/scipy/integrate/_ivp/radau.py\u001b[0m in \u001b[0;36m<module>\u001b[0;34m\u001b[0m\n\u001b[1;32m     12\u001b[0m \u001b[0;34m\u001b[0m\u001b[0m\n\u001b[1;32m     13\u001b[0m \u001b[0;31m# Butcher tableau. A is not used directly, see below.\u001b[0m\u001b[0;34m\u001b[0m\u001b[0;34m\u001b[0m\u001b[0m\n\u001b[0;32m---> 14\u001b[0;31m \u001b[0mC\u001b[0m \u001b[0;34m=\u001b[0m \u001b[0mnp\u001b[0m\u001b[0;34m.\u001b[0m\u001b[0marray\u001b[0m\u001b[0;34m(\u001b[0m\u001b[0;34m[\u001b[0m\u001b[0;34m(\u001b[0m\u001b[0;36m4\u001b[0m \u001b[0;34m-\u001b[0m \u001b[0mS6\u001b[0m\u001b[0;34m)\u001b[0m \u001b[0;34m/\u001b[0m \u001b[0;36m10\u001b[0m\u001b[0;34m,\u001b[0m \u001b[0;34m(\u001b[0m\u001b[0;36m4\u001b[0m \u001b[0;34m+\u001b[0m \u001b[0mS6\u001b[0m\u001b[0;34m)\u001b[0m \u001b[0;34m/\u001b[0m \u001b[0;36m10\u001b[0m\u001b[0;34m,\u001b[0m \u001b[0;36m1\u001b[0m\u001b[0;34m]\u001b[0m\u001b[0;34m)\u001b[0m\u001b[0;34m\u001b[0m\u001b[0;34m\u001b[0m\u001b[0m\n\u001b[0m\u001b[1;32m     15\u001b[0m \u001b[0mE\u001b[0m \u001b[0;34m=\u001b[0m \u001b[0mnp\u001b[0m\u001b[0;34m.\u001b[0m\u001b[0marray\u001b[0m\u001b[0;34m(\u001b[0m\u001b[0;34m[\u001b[0m\u001b[0;34m-\u001b[0m\u001b[0;36m13\u001b[0m \u001b[0;34m-\u001b[0m \u001b[0;36m7\u001b[0m \u001b[0;34m*\u001b[0m \u001b[0mS6\u001b[0m\u001b[0;34m,\u001b[0m \u001b[0;34m-\u001b[0m\u001b[0;36m13\u001b[0m \u001b[0;34m+\u001b[0m \u001b[0;36m7\u001b[0m \u001b[0;34m*\u001b[0m \u001b[0mS6\u001b[0m\u001b[0;34m,\u001b[0m \u001b[0;34m-\u001b[0m\u001b[0;36m1\u001b[0m\u001b[0;34m]\u001b[0m\u001b[0;34m)\u001b[0m \u001b[0;34m/\u001b[0m \u001b[0;36m3\u001b[0m\u001b[0;34m\u001b[0m\u001b[0;34m\u001b[0m\u001b[0m\n\u001b[1;32m     16\u001b[0m \u001b[0;34m\u001b[0m\u001b[0m\n",
            "\u001b[0;31mTypeError\u001b[0m: 'list' object is not callable"
          ]
        }
      ]
    }
  ]
}